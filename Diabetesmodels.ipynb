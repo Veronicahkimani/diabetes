{
 "cells": [
  {
   "cell_type": "markdown",
   "id": "9a8e8962-3580-4e47-bfda-507dcf213732",
   "metadata": {},
   "source": [
    "## Importing the necessarily libraries"
   ]
  },
  {
   "cell_type": "code",
   "execution_count": 98,
   "id": "fef92b52-397f-4bdb-80d1-d43ce38373ac",
   "metadata": {},
   "outputs": [],
   "source": [
    "import numpy as np\n",
    "import pandas as pd\n",
    "import matplotlib.pyplot as plt\n",
    "import seaborn as sns"
   ]
  },
  {
   "cell_type": "markdown",
   "id": "8273545b-0b3e-404a-9d19-0fc992204477",
   "metadata": {},
   "source": [
    "### loading the data set"
   ]
  },
  {
   "cell_type": "code",
   "execution_count": 99,
   "id": "da53e1c6-ee50-4b11-8007-54e4c6c25b2a",
   "metadata": {},
   "outputs": [],
   "source": [
    "diabetes=pd.read_csv(r\"C:\\xampp\\htdocs\\DATA SCIENCE PROJECTS\\PYTHON\\DIABETES\\diabetes.csv\")"
   ]
  },
  {
   "cell_type": "code",
   "execution_count": 100,
   "id": "21bf5cbc-9fc5-4ecb-b692-191250636679",
   "metadata": {},
   "outputs": [],
   "source": [
    "## data set copy\n",
    "dd_copy=diabetes.copy(deep=True)"
   ]
  },
  {
   "cell_type": "code",
   "execution_count": 101,
   "id": "eae2c079-cd81-4822-a5ad-e54fa5140902",
   "metadata": {},
   "outputs": [],
   "source": [
    "#selecting the imputation features\n",
    "imputation_features=['Glucose', 'BloodPressure', 'SkinThickness', 'Insulin', 'BMI']"
   ]
  },
  {
   "cell_type": "markdown",
   "id": "83ab422f-c24e-476c-ba37-939f9b8f71ea",
   "metadata": {},
   "source": [
    "## Imputation"
   ]
  },
  {
   "cell_type": "markdown",
   "id": "d3e0af6b-2e6e-4cde-b750-bc568c0c637a",
   "metadata": {},
   "source": [
    "### case 1"
   ]
  },
  {
   "cell_type": "code",
   "execution_count": 102,
   "id": "25030c1d-311d-49eb-9cb7-7579ccf80878",
   "metadata": {},
   "outputs": [],
   "source": [
    "## imputation case1: replacing the zeros with Nan\n",
    "dd_copy[['Glucose','BloodPressure','SkinThickness','Insulin','BMI']]= dd_copy[['Glucose','BloodPressure','SkinThickness','Insulin','BMI']].replace(0,np.NaN)"
   ]
  },
  {
   "cell_type": "code",
   "execution_count": 103,
   "id": "fb2870ae-7035-45e5-9762-a7e2ad49b7d4",
   "metadata": {},
   "outputs": [
    {
     "data": {
      "text/plain": [
       "Pregnancies                   0\n",
       "Glucose                       5\n",
       "BloodPressure                35\n",
       "SkinThickness               227\n",
       "Insulin                     374\n",
       "BMI                          11\n",
       "DiabetesPedigreeFunction      0\n",
       "Age                           0\n",
       "Outcome                       0\n",
       "dtype: int64"
      ]
     },
     "execution_count": 103,
     "metadata": {},
     "output_type": "execute_result"
    }
   ],
   "source": [
    "## showing the null vales\n",
    "dd_copy.isnull().sum()"
   ]
  },
  {
   "cell_type": "code",
   "execution_count": 104,
   "id": "311e47fd-be56-4d61-a760-5c2bcfd4845e",
   "metadata": {},
   "outputs": [],
   "source": [
    "##replacing null with median and mean. median if the distribution is skewed and mean if the distribution is symetrical(normal dist).you plot a histogram to show this distributions\n",
    "dd_copy['Glucose'].fillna(dd_copy['Glucose'].mean(), inplace = True)\n",
    "dd_copy['BloodPressure'].fillna(dd_copy['BloodPressure'].mean(), inplace = True)\n",
    "dd_copy['SkinThickness'].fillna(dd_copy['SkinThickness'].median(), inplace = True)\n",
    "dd_copy['Insulin'].fillna(dd_copy['Insulin'].median(), inplace = True)\n",
    "dd_copy['BMI'].fillna(dd_copy['BMI'].median(), inplace = True)"
   ]
  },
  {
   "cell_type": "code",
   "execution_count": 105,
   "id": "11b42f49-a206-43fa-99e9-99acaf5dd37e",
   "metadata": {},
   "outputs": [
    {
     "data": {
      "text/html": [
       "<div>\n",
       "<style scoped>\n",
       "    .dataframe tbody tr th:only-of-type {\n",
       "        vertical-align: middle;\n",
       "    }\n",
       "\n",
       "    .dataframe tbody tr th {\n",
       "        vertical-align: top;\n",
       "    }\n",
       "\n",
       "    .dataframe thead th {\n",
       "        text-align: right;\n",
       "    }\n",
       "</style>\n",
       "<table border=\"1\" class=\"dataframe\">\n",
       "  <thead>\n",
       "    <tr style=\"text-align: right;\">\n",
       "      <th></th>\n",
       "      <th>Pregnancies</th>\n",
       "      <th>Glucose</th>\n",
       "      <th>BloodPressure</th>\n",
       "      <th>SkinThickness</th>\n",
       "      <th>Insulin</th>\n",
       "      <th>BMI</th>\n",
       "      <th>DiabetesPedigreeFunction</th>\n",
       "      <th>Age</th>\n",
       "      <th>Outcome</th>\n",
       "    </tr>\n",
       "  </thead>\n",
       "  <tbody>\n",
       "    <tr>\n",
       "      <th>0</th>\n",
       "      <td>6</td>\n",
       "      <td>148.0</td>\n",
       "      <td>72.0</td>\n",
       "      <td>35.0</td>\n",
       "      <td>125.0</td>\n",
       "      <td>33.6</td>\n",
       "      <td>0.627</td>\n",
       "      <td>50</td>\n",
       "      <td>1</td>\n",
       "    </tr>\n",
       "    <tr>\n",
       "      <th>1</th>\n",
       "      <td>1</td>\n",
       "      <td>85.0</td>\n",
       "      <td>66.0</td>\n",
       "      <td>29.0</td>\n",
       "      <td>125.0</td>\n",
       "      <td>26.6</td>\n",
       "      <td>0.351</td>\n",
       "      <td>31</td>\n",
       "      <td>0</td>\n",
       "    </tr>\n",
       "    <tr>\n",
       "      <th>2</th>\n",
       "      <td>8</td>\n",
       "      <td>183.0</td>\n",
       "      <td>64.0</td>\n",
       "      <td>29.0</td>\n",
       "      <td>125.0</td>\n",
       "      <td>23.3</td>\n",
       "      <td>0.672</td>\n",
       "      <td>32</td>\n",
       "      <td>1</td>\n",
       "    </tr>\n",
       "    <tr>\n",
       "      <th>3</th>\n",
       "      <td>1</td>\n",
       "      <td>89.0</td>\n",
       "      <td>66.0</td>\n",
       "      <td>23.0</td>\n",
       "      <td>94.0</td>\n",
       "      <td>28.1</td>\n",
       "      <td>0.167</td>\n",
       "      <td>21</td>\n",
       "      <td>0</td>\n",
       "    </tr>\n",
       "    <tr>\n",
       "      <th>4</th>\n",
       "      <td>0</td>\n",
       "      <td>137.0</td>\n",
       "      <td>40.0</td>\n",
       "      <td>35.0</td>\n",
       "      <td>168.0</td>\n",
       "      <td>43.1</td>\n",
       "      <td>2.288</td>\n",
       "      <td>33</td>\n",
       "      <td>1</td>\n",
       "    </tr>\n",
       "    <tr>\n",
       "      <th>...</th>\n",
       "      <td>...</td>\n",
       "      <td>...</td>\n",
       "      <td>...</td>\n",
       "      <td>...</td>\n",
       "      <td>...</td>\n",
       "      <td>...</td>\n",
       "      <td>...</td>\n",
       "      <td>...</td>\n",
       "      <td>...</td>\n",
       "    </tr>\n",
       "    <tr>\n",
       "      <th>763</th>\n",
       "      <td>10</td>\n",
       "      <td>101.0</td>\n",
       "      <td>76.0</td>\n",
       "      <td>48.0</td>\n",
       "      <td>180.0</td>\n",
       "      <td>32.9</td>\n",
       "      <td>0.171</td>\n",
       "      <td>63</td>\n",
       "      <td>0</td>\n",
       "    </tr>\n",
       "    <tr>\n",
       "      <th>764</th>\n",
       "      <td>2</td>\n",
       "      <td>122.0</td>\n",
       "      <td>70.0</td>\n",
       "      <td>27.0</td>\n",
       "      <td>125.0</td>\n",
       "      <td>36.8</td>\n",
       "      <td>0.340</td>\n",
       "      <td>27</td>\n",
       "      <td>0</td>\n",
       "    </tr>\n",
       "    <tr>\n",
       "      <th>765</th>\n",
       "      <td>5</td>\n",
       "      <td>121.0</td>\n",
       "      <td>72.0</td>\n",
       "      <td>23.0</td>\n",
       "      <td>112.0</td>\n",
       "      <td>26.2</td>\n",
       "      <td>0.245</td>\n",
       "      <td>30</td>\n",
       "      <td>0</td>\n",
       "    </tr>\n",
       "    <tr>\n",
       "      <th>766</th>\n",
       "      <td>1</td>\n",
       "      <td>126.0</td>\n",
       "      <td>60.0</td>\n",
       "      <td>29.0</td>\n",
       "      <td>125.0</td>\n",
       "      <td>30.1</td>\n",
       "      <td>0.349</td>\n",
       "      <td>47</td>\n",
       "      <td>1</td>\n",
       "    </tr>\n",
       "    <tr>\n",
       "      <th>767</th>\n",
       "      <td>1</td>\n",
       "      <td>93.0</td>\n",
       "      <td>70.0</td>\n",
       "      <td>31.0</td>\n",
       "      <td>125.0</td>\n",
       "      <td>30.4</td>\n",
       "      <td>0.315</td>\n",
       "      <td>23</td>\n",
       "      <td>0</td>\n",
       "    </tr>\n",
       "  </tbody>\n",
       "</table>\n",
       "<p>768 rows × 9 columns</p>\n",
       "</div>"
      ],
      "text/plain": [
       "     Pregnancies  Glucose  BloodPressure  SkinThickness  Insulin   BMI  \\\n",
       "0              6    148.0           72.0           35.0    125.0  33.6   \n",
       "1              1     85.0           66.0           29.0    125.0  26.6   \n",
       "2              8    183.0           64.0           29.0    125.0  23.3   \n",
       "3              1     89.0           66.0           23.0     94.0  28.1   \n",
       "4              0    137.0           40.0           35.0    168.0  43.1   \n",
       "..           ...      ...            ...            ...      ...   ...   \n",
       "763           10    101.0           76.0           48.0    180.0  32.9   \n",
       "764            2    122.0           70.0           27.0    125.0  36.8   \n",
       "765            5    121.0           72.0           23.0    112.0  26.2   \n",
       "766            1    126.0           60.0           29.0    125.0  30.1   \n",
       "767            1     93.0           70.0           31.0    125.0  30.4   \n",
       "\n",
       "     DiabetesPedigreeFunction  Age  Outcome  \n",
       "0                       0.627   50        1  \n",
       "1                       0.351   31        0  \n",
       "2                       0.672   32        1  \n",
       "3                       0.167   21        0  \n",
       "4                       2.288   33        1  \n",
       "..                        ...  ...      ...  \n",
       "763                     0.171   63        0  \n",
       "764                     0.340   27        0  \n",
       "765                     0.245   30        0  \n",
       "766                     0.349   47        1  \n",
       "767                     0.315   23        0  \n",
       "\n",
       "[768 rows x 9 columns]"
      ]
     },
     "execution_count": 105,
     "metadata": {},
     "output_type": "execute_result"
    }
   ],
   "source": [
    "##call the datset to show the changes on imputation case 1\n",
    "dd_copy"
   ]
  },
  {
   "cell_type": "markdown",
   "id": "fd978de6-920d-4280-92c0-5ae108001616",
   "metadata": {},
   "source": [
    "### case 2"
   ]
  },
  {
   "cell_type": "code",
   "execution_count": 106,
   "id": "7f9577af-67d0-4073-a7ba-507bc4136742",
   "metadata": {},
   "outputs": [
    {
     "name": "stdout",
     "output_type": "stream",
     "text": [
      "Total :  35\n",
      "Total :  5\n",
      "Total :  227\n",
      "Total :  11\n",
      "Total :  374\n"
     ]
    }
   ],
   "source": [
    "## we use the original diabetes dataset since we\"ve utilized the copy and made permanent changes\n",
    "## treating the the outliers\n",
    "## Showing the total number of zero in each column\n",
    "print(\"Total : \", diabetes[diabetes.BloodPressure == 0].shape[0])\n",
    "print(\"Total : \", diabetes[diabetes.Glucose == 0].shape[0])\n",
    "print(\"Total : \", diabetes[diabetes.SkinThickness == 0].shape[0])\n",
    "print(\"Total : \", diabetes[diabetes.BMI == 0].shape[0])\n",
    "print(\"Total : \", diabetes[diabetes.Insulin == 0].shape[0])"
   ]
  },
  {
   "cell_type": "code",
   "execution_count": 107,
   "id": "4c28b280-41f4-4d3a-aa79-9b7b9b5ee7ac",
   "metadata": {},
   "outputs": [
    {
     "data": {
      "text/plain": [
       "Outcome\n",
       "0    19\n",
       "1    16\n",
       "Name: Age, dtype: int64"
      ]
     },
     "execution_count": 107,
     "metadata": {},
     "output_type": "execute_result"
    }
   ],
   "source": [
    "## show the total number of diabetic and non diabetic patiients\n",
    "diabetes[diabetes.BloodPressure == 0].groupby('Outcome')['Age'].count()"
   ]
  },
  {
   "cell_type": "code",
   "execution_count": 108,
   "id": "0f637062-3137-4d56-98f1-233b99e6b827",
   "metadata": {},
   "outputs": [],
   "source": [
    "##making another copy\n",
    "diabetes_copy=diabetes.copy(deep=True)"
   ]
  },
  {
   "cell_type": "code",
   "execution_count": 109,
   "id": "93f81a29-9a6a-49f7-9106-256e37d9ff81",
   "metadata": {},
   "outputs": [],
   "source": [
    "##replace zeros with null\n",
    "diabetes_copy[['Glucose','BloodPressure','SkinThickness','Insulin','BMI']] = diabetes_copy[['Glucose','BloodPressure','SkinThickness','Insulin','BMI']].replace(0,np.NaN)"
   ]
  },
  {
   "cell_type": "code",
   "execution_count": 110,
   "id": "fb89aad5-10bc-439f-be37-ad3558569faa",
   "metadata": {},
   "outputs": [
    {
     "data": {
      "text/plain": [
       "Pregnancies                   0\n",
       "Glucose                       5\n",
       "BloodPressure                35\n",
       "SkinThickness               227\n",
       "Insulin                     374\n",
       "BMI                          11\n",
       "DiabetesPedigreeFunction      0\n",
       "Age                           0\n",
       "Outcome                       0\n",
       "dtype: int64"
      ]
     },
     "execution_count": 110,
     "metadata": {},
     "output_type": "execute_result"
    }
   ],
   "source": [
    "diabetes_copy.isnull().sum()"
   ]
  },
  {
   "cell_type": "code",
   "execution_count": 111,
   "id": "2715f01b-c974-4618-99f8-ae55849c6c0d",
   "metadata": {},
   "outputs": [],
   "source": [
    "##selecting rows that are non-zeros in the followinng 3 columns and creating a copy.we select features that can not be zero\n",
    "d_mod = diabetes[(diabetes.BloodPressure != 0) & (diabetes.BMI != 0) & (diabetes.Glucose != 0)]\n",
    "d_mod_wi=d_mod.copy(deep=True)"
   ]
  },
  {
   "cell_type": "code",
   "execution_count": 112,
   "id": "ca5890da-2c47-49fe-9096-550ebd669aee",
   "metadata": {},
   "outputs": [
    {
     "name": "stdout",
     "output_type": "stream",
     "text": [
      "Glucose 0.0\n",
      "BloodPressure 0.0\n",
      "SkinThickness 0.2652\n",
      "Insulin 0.4586\n",
      "BMI 0.0\n"
     ]
    }
   ],
   "source": [
    "imputation_features = ['Glucose', 'BloodPressure', 'SkinThickness', 'Insulin', 'BMI']\n",
    "for feature in imputation_features :\n",
    " print(feature, round(len(d_mod[d_mod[feature] == 0]) / len(d_mod), 4))"
   ]
  },
  {
   "cell_type": "code",
   "execution_count": 113,
   "id": "bf1eeb1e-bcbf-476e-9128-115c8f59ab4d",
   "metadata": {},
   "outputs": [],
   "source": [
    "d_mod_wi[['Glucose','BloodPressure','SkinThickness','Insulin','BMI']] = d_mod_wi[['Glucose','BloodPressure','SkinThickness','Insulin','BMI']].replace(0,np.NaN)"
   ]
  },
  {
   "cell_type": "code",
   "execution_count": 114,
   "id": "6f26c972-3ce3-4ed1-bd89-16d2ee0934cd",
   "metadata": {},
   "outputs": [],
   "source": [
    "##replacing the zeros in skin thicknesss and insulin with null\n",
    "d_mod_wi['SkinThickness'].fillna(d_mod_wi['SkinThickness'].median(), inplace = True)\n",
    "d_mod_wi['Insulin'].fillna(d_mod_wi['Insulin'].median(), inplace = True)"
   ]
  },
  {
   "cell_type": "code",
   "execution_count": 115,
   "id": "746024fd-53ba-4e04-964c-08443245f042",
   "metadata": {},
   "outputs": [
    {
     "data": {
      "text/plain": [
       "(724, 9)"
      ]
     },
     "execution_count": 115,
     "metadata": {},
     "output_type": "execute_result"
    }
   ],
   "source": [
    "##columns and rows after case 2 imputatin\n",
    "d_mod_wi.shape"
   ]
  },
  {
   "cell_type": "code",
   "execution_count": 116,
   "id": "4e29562b-4eaa-4d3b-a7ff-4e9f85d2fc36",
   "metadata": {},
   "outputs": [],
   "source": [
    "#determine features and target\n",
    "feature_names = ['Pregnancies', 'Glucose', 'BloodPressure', 'SkinThickness', 'Insulin', 'BMI', 'DiabetesPedigreeFunction', 'Age']\n",
    "feature_names_selected = ['Pregnancies', 'Glucose', 'BMI', 'DiabetesPedigreeFunction', 'Age']"
   ]
  },
  {
   "cell_type": "code",
   "execution_count": 117,
   "id": "34e8d9dc-10e8-4b22-9fe7-ef75694bbaaf",
   "metadata": {},
   "outputs": [],
   "source": [
    "##feature selection in case 2\n",
    "X = d_mod[feature_names]\n",
    "y = d_mod.Outcome"
   ]
  },
  {
   "cell_type": "code",
   "execution_count": 118,
   "id": "8ebb4a92-b16b-4c4c-b0c2-522edc33eecd",
   "metadata": {},
   "outputs": [],
   "source": [
    "##featue selection in cas 1\n",
    "Xx = dd_copy[feature_names]\n",
    "yy = dd_copy.Outcome"
   ]
  },
  {
   "cell_type": "markdown",
   "id": "21b6716a-de79-4275-b476-8f1154e0d0f0",
   "metadata": {},
   "source": [
    "### Supervised machine learning"
   ]
  },
  {
   "cell_type": "markdown",
   "id": "f6e83048-9adc-4b5c-99d7-f2755806db4d",
   "metadata": {},
   "source": [
    "#### import necessary models"
   ]
  },
  {
   "cell_type": "code",
   "execution_count": 119,
   "id": "9e5f8c8a-7872-4f56-88e3-88433888bb88",
   "metadata": {},
   "outputs": [],
   "source": [
    "from sklearn.neighbors import KNeighborsClassifier\n",
    "from sklearn.svm import SVC\n",
    "from sklearn.linear_model import LogisticRegression\n",
    "from sklearn.tree import DecisionTreeClassifier\n",
    "from sklearn.naive_bayes import GaussianNB\n",
    "from sklearn.ensemble import RandomForestClassifier\n",
    "from sklearn.ensemble import GradientBoostingClassifier\n",
    "from sklearn.feature_selection import SelectKBest\n",
    "from sklearn.feature_selection import f_classif"
   ]
  },
  {
   "cell_type": "code",
   "execution_count": 120,
   "id": "2ab06c3e-18ed-41b4-9466-b53f5735d8ca",
   "metadata": {},
   "outputs": [],
   "source": [
    "from sklearn.model_selection import train_test_split\n",
    "from sklearn.metrics import accuracy_score"
   ]
  },
  {
   "cell_type": "code",
   "execution_count": 121,
   "id": "5e127ec5-5d48-41e5-914e-87dc05e54f61",
   "metadata": {},
   "outputs": [],
   "source": [
    "##using the first case data to train the model\n",
    "X_train, X_test, y_train, y_test = train_test_split(Xx, yy, stratify = dd_copy.Outcome, random_state=0)"
   ]
  },
  {
   "cell_type": "code",
   "execution_count": 122,
   "id": "69ade593-68e2-4420-9595-13116e10102b",
   "metadata": {},
   "outputs": [
    {
     "name": "stdout",
     "output_type": "stream",
     "text": [
      "Using the unscaled?/ not standardized\n",
      "The accuracy score for knearestneighbor is :  0.7135416666666666\n",
      "The accuracy score for support vector is :  0.7552083333333334\n",
      "The accuracy score for logistic regression is :  0.7552083333333334\n",
      "The accuracy score for decision tree is :  0.734375\n",
      "The accuracy score for random forest is :  0.7708333333333334\n"
     ]
    }
   ],
   "source": [
    "print(\"Using the unscaled?/ not standardized\")\n",
    "knn = KNeighborsClassifier()\n",
    "knn.fit(X_train, y_train)\n",
    "y_pred = knn.predict(X_test)\n",
    "knn_score=accuracy_score(y_test, y_pred)\n",
    "print(\"The accuracy score for knearestneighbor is : \" ,knn_score)\n",
    "\n",
    "svm = SVC(C=0.5, kernel='linear')\n",
    "svm.fit(X_train, y_train)\n",
    "y_pred = svm.predict(X_test)\n",
    "svm_score=accuracy_score(y_test, y_pred)\n",
    "print(\"The accuracy score for support vector is : \",svm_score)\n",
    "\n",
    "logreg_model = LogisticRegression(max_iter=1000)\n",
    "logreg_model.fit(X_train, y_train)\n",
    "y_pred = logreg_model.predict(X_test)\n",
    "logreg_score=accuracy_score(y_test, y_pred)\n",
    "print(\"The accuracy score for logistic regression is : \",logreg_score)\n",
    "\n",
    "dst = DecisionTreeClassifier()\n",
    "dst.fit(X_train, y_train)\n",
    "y_pred = dst.predict(X_test)\n",
    "dst_score=accuracy_score(y_test, y_pred)\n",
    "print(\"The accuracy score for decision tree is : \",dst_score)\n",
    "\n",
    "rf = RandomForestClassifier()\n",
    "rf.fit(X_train, y_train)\n",
    "y_pred = rf.predict(X_test)\n",
    "df_score=accuracy_score(y_test, y_pred)\n",
    "print(\"The accuracy score for random forest is : \",df_score)"
   ]
  },
  {
   "cell_type": "markdown",
   "id": "5f2ce6bf-c35e-4d88-ba89-9c664a337677",
   "metadata": {},
   "source": [
    "## using scaled data for case 1"
   ]
  },
  {
   "cell_type": "code",
   "execution_count": 123,
   "id": "a9282be4-ffd6-4d02-9910-c798fb1f490f",
   "metadata": {},
   "outputs": [],
   "source": [
    "X_train, X_test, y_train, y_test = train_test_split(Xx, yy, stratify = dd_copy.Outcome, random_state=0)"
   ]
  },
  {
   "cell_type": "code",
   "execution_count": 124,
   "id": "2b4982e1-0b50-4276-a1de-42a49c0fe774",
   "metadata": {},
   "outputs": [],
   "source": [
    "from sklearn.preprocessing import StandardScaler\n"
   ]
  },
  {
   "cell_type": "code",
   "execution_count": 125,
   "id": "02a0b2e9-84ac-411c-9564-32548936d372",
   "metadata": {},
   "outputs": [],
   "source": [
    "std_slc = StandardScaler()"
   ]
  },
  {
   "cell_type": "code",
   "execution_count": 126,
   "id": "8eca7d4c-f120-4c70-952f-956f7bc951e4",
   "metadata": {},
   "outputs": [],
   "source": [
    "X_train_scaled = std_slc.fit_transform(X_train)\n",
    "X_test_scaled  = std_slc.transform(X_test)"
   ]
  },
  {
   "cell_type": "code",
   "execution_count": 127,
   "id": "01caeb2b-d427-4863-8b4c-0d6a3c2cc3a3",
   "metadata": {},
   "outputs": [
    {
     "name": "stdout",
     "output_type": "stream",
     "text": [
      "Using the scaled\n",
      "The accuracy score for knn is :  0.71875\n",
      "The accuracy score for support vector is :  0.7552083333333334\n",
      "The accuracy score for logistic regression is :  0.7552083333333334\n",
      "The accuracy score for decision tree is :  0.6822916666666666\n",
      "The accuracy score for random forest is :  0.765625\n"
     ]
    }
   ],
   "source": [
    "print(\"Using the scaled\")\n",
    "knn = KNeighborsClassifier()\n",
    "knn.fit(X_train_scaled, y_train)\n",
    "y_pred = knn.predict(X_test_scaled)\n",
    "knn_score=accuracy_score(y_test, y_pred)\n",
    "print(\"The accuracy score for knn is : \",knn_score)\n",
    "\n",
    "svm = SVC(C=0.5, kernel='linear')\n",
    "svm.fit(X_train_scaled, y_train)\n",
    "y_pred = svm.predict(X_test_scaled)\n",
    "svm_score=accuracy_score(y_test, y_pred)\n",
    "print(\"The accuracy score for support vector is : \",svm_score)\n",
    "\n",
    "logreg_model = LogisticRegression(max_iter=1000)\n",
    "logreg_model.fit(X_train_scaled, y_train)\n",
    "y_pred = logreg_model.predict(X_test_scaled)\n",
    "logreg_score=accuracy_score(y_test, y_pred)\n",
    "print(\"The accuracy score for logistic regression is : \",logreg_score)\n",
    "\n",
    "dst = DecisionTreeClassifier()\n",
    "dst.fit(X_train_scaled, y_train)\n",
    "y_pred = dst.predict(X_test_scaled)\n",
    "dst_score=accuracy_score(y_test, y_pred)\n",
    "print(\"The accuracy score for decision tree is : \",dst_score)\n",
    "\n",
    "rf = RandomForestClassifier()\n",
    "rf.fit(X_train_scaled, y_train)\n",
    "y_pred = rf.predict(X_test_scaled)\n",
    "df_score=accuracy_score(y_test, y_pred)\n",
    "print(\"The accuracy score for random forest is : \",df_score)"
   ]
  },
  {
   "cell_type": "code",
   "execution_count": null,
   "id": "d39696bf-016d-4038-b872-a384dd5286ab",
   "metadata": {},
   "outputs": [],
   "source": []
  },
  {
   "cell_type": "markdown",
   "id": "feac31b0-e7dd-44c7-8bdc-21b5b6a712c1",
   "metadata": {},
   "source": [
    "## ensemble case 1\n",
    "### using selectkbase"
   ]
  },
  {
   "cell_type": "code",
   "execution_count": 128,
   "id": "f17ada67-e98c-4aa2-aa66-a5a9c911cdda",
   "metadata": {},
   "outputs": [],
   "source": [
    "X_train, X_test, y_train, y_test = train_test_split(Xx, yy, stratify = dd_copy.Outcome, random_state=0)"
   ]
  },
  {
   "cell_type": "code",
   "execution_count": 129,
   "id": "05fe18c1-c3a8-4217-ad26-32919a41a8d7",
   "metadata": {},
   "outputs": [
    {
     "name": "stdout",
     "output_type": "stream",
     "text": [
      "using selectkbase\n"
     ]
    }
   ],
   "source": [
    "print('using selectkbase')\n",
    "k=6\n",
    "selector = SelectKBest(score_func=f_classif, k=k)\n",
    "X_train_selected = selector.fit_transform(X_train_scaled, y_train)\n",
    "X_test_selected = selector.transform(X_test_scaled)"
   ]
  },
  {
   "cell_type": "code",
   "execution_count": 130,
   "id": "57a3c3e7-cfdf-449d-a3ee-056461ea3a53",
   "metadata": {},
   "outputs": [
    {
     "name": "stdout",
     "output_type": "stream",
     "text": [
      "The accuracy score for knn is :  0.7708333333333334\n",
      "The accuracy score for support vector is :  0.7760416666666666\n",
      "The accuracy score for logistic regression is :  0.765625\n",
      "The accuracy score for decision tree is :  0.7239583333333334\n",
      "The accuracy score for random forest is :  0.78125\n"
     ]
    }
   ],
   "source": [
    "\n",
    "knn = KNeighborsClassifier()\n",
    "knn.fit(X_train_selected, y_train)\n",
    "y_pred = knn.predict(X_test_selected)\n",
    "knn_score=accuracy_score(y_test, y_pred)\n",
    "print(\"The accuracy score for knn is : \",knn_score)\n",
    "\n",
    "svm = SVC(C=0.5, kernel='linear')\n",
    "svm.fit(X_train_selected, y_train)\n",
    "y_pred = svm.predict(X_test_selected)\n",
    "svm_score=accuracy_score(y_test, y_pred)\n",
    "print(\"The accuracy score for support vector is : \",svm_score)\n",
    "\n",
    "logreg_model = LogisticRegression(max_iter=1000)\n",
    "logreg_model.fit(X_train_selected, y_train)\n",
    "y_pred = logreg_model.predict(X_test_selected)\n",
    "logreg_score=accuracy_score(y_test, y_pred)\n",
    "print(\"The accuracy score for logistic regression is : \",logreg_score)\n",
    "\n",
    "dst = DecisionTreeClassifier()\n",
    "dst.fit(X_train_selected, y_train)\n",
    "y_pred = dst.predict(X_test_selected)\n",
    "dst_score=accuracy_score(y_test, y_pred)\n",
    "print(\"The accuracy score for decision tree is : \",dst_score)\n",
    "\n",
    "rf = RandomForestClassifier()\n",
    "rf.fit(X_train_selected, y_train)\n",
    "y_pred = rf.predict(X_test_selected)\n",
    "df_score=accuracy_score(y_test, y_pred)\n",
    "print(\"The accuracy score for random forest is : \",df_score)"
   ]
  },
  {
   "cell_type": "markdown",
   "id": "1fe6c9ef-ecb7-42c9-a0ef-46283166dbd2",
   "metadata": {},
   "source": [
    "## model training case 2"
   ]
  },
  {
   "cell_type": "code",
   "execution_count": 131,
   "id": "c9882097-526c-449f-9829-dd82b4857dd5",
   "metadata": {},
   "outputs": [],
   "source": [
    "X = d_mod[feature_names]\n",
    "y = d_mod.Outcome"
   ]
  },
  {
   "cell_type": "code",
   "execution_count": 132,
   "id": "005307a8-ec03-4056-9aa6-49423c5b848c",
   "metadata": {},
   "outputs": [],
   "source": [
    "X_train, X_test, y_train, y_test = train_test_split(X, y, stratify = d_mod.Outcome, random_state=0)"
   ]
  },
  {
   "cell_type": "code",
   "execution_count": 133,
   "id": "91c37e2e-ba20-4f80-b847-3b09b1dd85d5",
   "metadata": {},
   "outputs": [
    {
     "name": "stdout",
     "output_type": "stream",
     "text": [
      "Using the unscaled?/ not standardized\n",
      "The accuracy score for knearestneighbor is :  0.7292817679558011\n",
      "The accuracy score for support vector is :  0.7679558011049724\n",
      "The accuracy score for logistic regression is :  0.7790055248618785\n",
      "The accuracy score for decision tree is :  0.7292817679558011\n",
      "The accuracy score for random forest is :  0.7845303867403315\n"
     ]
    }
   ],
   "source": [
    "print(\"Using the unscaled?/ not standardized\")\n",
    "knn = KNeighborsClassifier()\n",
    "knn.fit(X_train, y_train)\n",
    "y_pred = knn.predict(X_test)\n",
    "knn_score=accuracy_score(y_test, y_pred)\n",
    "print(\"The accuracy score for knearestneighbor is : \" ,knn_score)\n",
    "\n",
    "svm = SVC(C=0.5, kernel='linear')\n",
    "svm.fit(X_train, y_train)\n",
    "y_pred = svm.predict(X_test)\n",
    "svm_score=accuracy_score(y_test, y_pred)\n",
    "print(\"The accuracy score for support vector is : \",svm_score)\n",
    "\n",
    "logreg_model = LogisticRegression(max_iter=1000)\n",
    "logreg_model.fit(X_train, y_train)\n",
    "y_pred = logreg_model.predict(X_test)\n",
    "logreg_score=accuracy_score(y_test, y_pred)\n",
    "print(\"The accuracy score for logistic regression is : \",logreg_score)\n",
    "\n",
    "dst = DecisionTreeClassifier()\n",
    "dst.fit(X_train, y_train)\n",
    "y_pred = dst.predict(X_test)\n",
    "dst_score=accuracy_score(y_test, y_pred)\n",
    "print(\"The accuracy score for decision tree is : \",dst_score)\n",
    "\n",
    "rf = RandomForestClassifier()\n",
    "rf.fit(X_train, y_train)\n",
    "y_pred = rf.predict(X_test)\n",
    "df_score=accuracy_score(y_test, y_pred)\n",
    "print(\"The accuracy score for random forest is : \",df_score)"
   ]
  },
  {
   "cell_type": "code",
   "execution_count": 134,
   "id": "83565971-971f-46d6-b14c-46c5a5adc27d",
   "metadata": {},
   "outputs": [],
   "source": [
    "X_train_scaled = std_slc.fit_transform(X_train)\n",
    "X_test_scaled  = std_slc.transform(X_test)"
   ]
  },
  {
   "cell_type": "code",
   "execution_count": 135,
   "id": "6c9e671a-2ec8-46d8-bc41-55693c015975",
   "metadata": {},
   "outputs": [
    {
     "name": "stdout",
     "output_type": "stream",
     "text": [
      "scaled\n",
      "The accuracy score for knn is :  0.7845303867403315\n",
      "The accuracy score for support vector is :  0.7679558011049724\n",
      "The accuracy score for logistic regression is :  0.7845303867403315\n",
      "The accuracy score for decision tree is :  0.7292817679558011\n",
      "The accuracy score for random forest is :  0.7624309392265194\n"
     ]
    }
   ],
   "source": [
    "print('scaled')\n",
    "knn = KNeighborsClassifier()\n",
    "knn.fit(X_train_scaled, y_train)\n",
    "y_pred = knn.predict(X_test_scaled)\n",
    "knn_score=accuracy_score(y_test, y_pred)\n",
    "print(\"The accuracy score for knn is : \",knn_score)\n",
    "\n",
    "svm = SVC(C=0.5, kernel='linear')\n",
    "svm.fit(X_train_scaled, y_train)\n",
    "y_pred = svm.predict(X_test_scaled)\n",
    "svm_score=accuracy_score(y_test, y_pred)\n",
    "print(\"The accuracy score for support vector is : \",svm_score)\n",
    "\n",
    "logreg_model = LogisticRegression(max_iter=1000)\n",
    "logreg_model.fit(X_train_scaled, y_train)\n",
    "y_pred = logreg_model.predict(X_test_scaled)\n",
    "logreg_score=accuracy_score(y_test, y_pred)\n",
    "print(\"The accuracy score for logistic regression is : \",logreg_score)\n",
    "\n",
    "dst = DecisionTreeClassifier()\n",
    "dst.fit(X_train_scaled, y_train)\n",
    "y_pred = dst.predict(X_test_scaled)\n",
    "dst_score=accuracy_score(y_test, y_pred)\n",
    "print(\"The accuracy score for decision tree is : \",dst_score)\n",
    "\n",
    "rf = RandomForestClassifier()\n",
    "rf.fit(X_train_scaled, y_train)\n",
    "y_pred = rf.predict(X_test_scaled)\n",
    "df_score=accuracy_score(y_test, y_pred)\n",
    "print(\"The accuracy score for random forest is : \",df_score)"
   ]
  },
  {
   "cell_type": "code",
   "execution_count": 136,
   "id": "de8802d7-166c-4948-9dad-42387a6cc0dc",
   "metadata": {},
   "outputs": [
    {
     "name": "stdout",
     "output_type": "stream",
     "text": [
      "using selectkbase\n"
     ]
    }
   ],
   "source": [
    "# USING KBEST\n",
    "k=6\n",
    "selector = SelectKBest(score_func=f_classif, k=k)\n",
    "X_train_selected = selector.fit_transform(X_train_scaled, y_train)\n",
    "X_test_selected = selector.transform(X_test_scaled)"
   ]
  },
  {
   "cell_type": "code",
   "execution_count": 138,
   "id": "6c03a054-ce45-4021-b20c-e92f33d22e69",
   "metadata": {},
   "outputs": [
    {
     "name": "stdout",
     "output_type": "stream",
     "text": [
      "using selectkbase\n",
      "The accuracy score for knn is :  0.7679558011049724\n",
      "The accuracy score for support vector is :  0.7790055248618785\n",
      "The accuracy score for logistic regression is :  0.7845303867403315\n",
      "The accuracy score for decision tree is :  0.7016574585635359\n",
      "The accuracy score for random forest is :  0.7900552486187845\n"
     ]
    }
   ],
   "source": [
    "print('using selectkbase')\n",
    "knn = KNeighborsClassifier()\n",
    "knn.fit(X_train_selected, y_train)\n",
    "y_pred = knn.predict(X_test_selected)\n",
    "knn_score=accuracy_score(y_test, y_pred)\n",
    "print(\"The accuracy score for knn is : \",knn_score)\n",
    "\n",
    "svm = SVC(C=0.5, kernel='linear')\n",
    "svm.fit(X_train_selected, y_train)\n",
    "y_pred = svm.predict(X_test_selected)\n",
    "svm_score=accuracy_score(y_test, y_pred)\n",
    "print(\"The accuracy score for support vector is : \",svm_score)\n",
    "\n",
    "logreg_model = LogisticRegression(max_iter=1000)\n",
    "logreg_model.fit(X_train_selected, y_train)\n",
    "y_pred = logreg_model.predict(X_test_selected)\n",
    "logreg_score=accuracy_score(y_test, y_pred)\n",
    "print(\"The accuracy score for logistic regression is : \",logreg_score)\n",
    "\n",
    "dst = DecisionTreeClassifier()\n",
    "dst.fit(X_train_selected, y_train)\n",
    "y_pred = dst.predict(X_test_selected)\n",
    "dst_score=accuracy_score(y_test, y_pred)\n",
    "print(\"The accuracy score for decision tree is : \",dst_score)\n",
    "\n",
    "rf = RandomForestClassifier()\n",
    "rf.fit(X_train_selected, y_train)\n",
    "y_pred = rf.predict(X_test_selected)\n",
    "df_score=accuracy_score(y_test, y_pred)\n",
    "print(\"The accuracy score for random forest is : \",df_score)"
   ]
  },
  {
   "cell_type": "code",
   "execution_count": null,
   "id": "aa81e3f6-be45-4190-8959-7339e6d3fca7",
   "metadata": {},
   "outputs": [],
   "source": []
  },
  {
   "cell_type": "code",
   "execution_count": null,
   "id": "1bae1fcc-c386-4726-869d-89339ba5fbce",
   "metadata": {},
   "outputs": [],
   "source": []
  }
 ],
 "metadata": {
  "kernelspec": {
   "display_name": "Python 3 (ipykernel)",
   "language": "python",
   "name": "python3"
  },
  "language_info": {
   "codemirror_mode": {
    "name": "ipython",
    "version": 3
   },
   "file_extension": ".py",
   "mimetype": "text/x-python",
   "name": "python",
   "nbconvert_exporter": "python",
   "pygments_lexer": "ipython3",
   "version": "3.11.7"
  }
 },
 "nbformat": 4,
 "nbformat_minor": 5
}
